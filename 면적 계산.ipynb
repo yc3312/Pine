{
 "cells": [
  {
   "cell_type": "code",
   "execution_count": 18,
   "id": "bc32cfaa",
   "metadata": {},
   "outputs": [],
   "source": [
    "import cv2\n",
    "import pandas as pd\n",
    "from matplotlib import pyplot as plt\n",
    "import numpy as np\n",
    "\n",
    "import streamlit as st"
   ]
  },
  {
   "cell_type": "code",
   "execution_count": 16,
   "id": "ef2c6000",
   "metadata": {},
   "outputs": [
    {
     "name": "stdout",
     "output_type": "stream",
     "text": [
      "[8280.83445312]\n",
      "[8280.83445312]\n",
      "[8280.83445312]\n",
      "[8280.83445312]\n",
      "[8280.83445312]\n"
     ]
    }
   ],
   "source": [
    "for i in range(1,6):\n",
    "    img = cv2.imread(\"./predict/target00%s.jpg\" %i, cv2.IMREAD_GRAYSCALE)\n",
    "    ret, b_img = cv2.threshold(src, 64, 255, cv2.THRESH_BINARY)\n",
    "    hist = cv2.calcHist(images = [b_img], \n",
    "                   channels = [0], \n",
    "                   mask = None,\n",
    "                   histSize = [256],\n",
    "                   ranges = [0, 256])\n",
    "    \n",
    "    height, width = b_img.shape[0], b_img.shape[1]\n",
    "    rectangle_area = height * width\n",
    "    rate_w = hist[0] / rectangle_area\n",
    "    rate_b = hist[-1] / rectangle_area\n",
    "    ds_area = 100*100\n",
    "    ds_S = ds_area*rate_w\n",
    "    st_S = ds_area*rate_b\n",
    "    print(ds_S)"
   ]
  },
  {
   "cell_type": "code",
   "execution_count": 22,
   "id": "ffab19e0",
   "metadata": {},
   "outputs": [
    {
     "name": "stderr",
     "output_type": "stream",
     "text": [
      "2022-08-24 13:56:05.823 \n",
      "  \u001b[33m\u001b[1mWarning:\u001b[0m to view this Streamlit app on a browser, run it with the following\n",
      "  command:\n",
      "\n",
      "    streamlit run C:\\Users\\owner\\anaconda3\\envs\\tf24\\lib\\site-packages\\ipykernel_launcher.py [ARGUMENTS]\n"
     ]
    }
   ],
   "source": [
    "import streamlit as st\n",
    "import pandas as pd\n",
    "import numpy as np\n",
    "from PIL import Image\n",
    "\n",
    "# 페이지 이름 지정\n",
    "st.set_page_config(\n",
    "     page_title=\"🌲 Pine wilt disease Web 🌲\",\n",
    "     layout=\"centered\",\n",
    "     initial_sidebar_state=\"expanded\"\n",
    " )\n",
    "\n",
    "\n",
    "# 로고 넣기\n",
    "st.image(\"./title.png\", use_column_width=True)\n",
    "\n",
    "# 사이드바\n",
    "data = pd.read_csv(\"pine.csv\") # 전국 고사목 수\n",
    "data = data.set_index(\"년도\") # 년도 데이터를 인덱스로 지정\n",
    "chart_data = pd.DataFrame(data)\n",
    "\n",
    "st.sidebar.header(\"Menu\")\n",
    "name = st.sidebar.selectbox(\"선택\", ['전국 고사목 수', '면적과 좌표'])\n",
    "\n",
    "if name ==\"전국 고사목 수\" :\n",
    "    st.write(\"## 전국 고사목 수(~2020년)\")\n",
    "    st.bar_chart(chart_data)\n",
    "    # 2022년 현황\n",
    "    st.write(\"### 2022년도 현황\")\n",
    "    col1, col2 = st.columns(2)\n",
    "    col1.metric(label=\"발생 시·군·구\", value=\"135개\", delta =\"4개 지역\")\n",
    "    col2.metric(label=\"고사목 수\", value=\"38만 본\", delta =\"22.6%\")\n",
    "\n",
    "\n",
    "#  이미지 불러오기 함수 만들기\n",
    "def load_image(image_file) :\n",
    "    img = Image.open(image_file)\n",
    "    return img\n",
    "    \n",
    "if name ==\"면적과 좌표\" :\n",
    "    # image\n",
    "    st.markdown(\"#### 소나무재선충병 이미지\")  \n",
    "    img = load_image(target)\n",
    "    st.image(img, width=200)\n"
   ]
  },
  {
   "cell_type": "code",
   "execution_count": 24,
   "id": "0e140282",
   "metadata": {},
   "outputs": [
    {
     "data": {
      "text/plain": [
       "['./target/*.jpg']"
      ]
     },
     "execution_count": 24,
     "metadata": {},
     "output_type": "execute_result"
    }
   ],
   "source": [
    "imgs = [\"./target/*.jpg\"]\n",
    "imgs"
   ]
  },
  {
   "cell_type": "code",
   "execution_count": 25,
   "id": "6574f75b",
   "metadata": {},
   "outputs": [],
   "source": [
    "import os\n",
    "import cv2"
   ]
  },
  {
   "cell_type": "code",
   "execution_count": 29,
   "id": "07ab9f27",
   "metadata": {},
   "outputs": [
    {
     "data": {
      "text/plain": [
       "['target001.jpg',\n",
       " 'target002.jpg',\n",
       " 'target003.jpg',\n",
       " 'target004.jpg',\n",
       " 'target005.jpg']"
      ]
     },
     "execution_count": 29,
     "metadata": {},
     "output_type": "execute_result"
    }
   ],
   "source": [
    "path = 'C:/Users/owner/tf24/project/target' # 폴더 경로\n",
    "os.chdir(path)\n",
    "files = os.listdir(path)\n",
    "files"
   ]
  },
  {
   "cell_type": "markdown",
   "id": "0bb602df",
   "metadata": {},
   "source": [
    "### 사진 업로드 하면 저장"
   ]
  },
  {
   "cell_type": "code",
   "execution_count": 1,
   "id": "e4cf1628",
   "metadata": {},
   "outputs": [],
   "source": [
    "import os\n",
    "\n",
    "# 디렉토리와 파일을 주면 해당 디렉토리에 파일 저장하기\n",
    "def save_uploaded_file(directory, file):\n",
    "    # 디렉토리가 존재하는지 확인 후 없으면 생성\n",
    "    if not os.path.exists(directory):\n",
    "        os.makedirs(directory)\n",
    "    # 파일 저장\n",
    "    with open(os.path.join(directory, file.name), 'wb') as f:\n",
    "        f.write(file.getbuffer())\n",
    "    return st.success('Saved file : {} in {}'.format(file.name, directory))"
   ]
  },
  {
   "cell_type": "code",
   "execution_count": null,
   "id": "362ae7b7",
   "metadata": {},
   "outputs": [],
   "source": []
  }
 ],
 "metadata": {
  "kernelspec": {
   "display_name": "Python 3 (ipykernel)",
   "language": "python",
   "name": "python3"
  },
  "language_info": {
   "codemirror_mode": {
    "name": "ipython",
    "version": 3
   },
   "file_extension": ".py",
   "mimetype": "text/x-python",
   "name": "python",
   "nbconvert_exporter": "python",
   "pygments_lexer": "ipython3",
   "version": "3.8.13"
  }
 },
 "nbformat": 4,
 "nbformat_minor": 5
}
