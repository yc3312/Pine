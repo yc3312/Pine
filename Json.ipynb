{
 "cells": [
  {
   "cell_type": "code",
   "execution_count": 1,
   "id": "2b577a35",
   "metadata": {},
   "outputs": [],
   "source": [
    "import json\n",
    "import os\n",
    "import numpy as np\n",
    "import argparse\n",
    "import cv2\n",
    "import matplotlib.pyplot as plt"
   ]
  },
  {
   "cell_type": "code",
   "execution_count": 2,
   "id": "b00a2425",
   "metadata": {
    "scrolled": true
   },
   "outputs": [
    {
     "name": "stdout",
     "output_type": "stream",
     "text": [
      "1 종료\n",
      "10 종료\n",
      "11 종료\n",
      "12 종료\n",
      "13 종료\n",
      "2 종료\n",
      "3 종료\n",
      "4 종료\n",
      "5 종료\n",
      "6 종료\n",
      "7 종료\n",
      "8 종료\n",
      "9 종료\n"
     ]
    }
   ],
   "source": [
    "\n",
    "file_list = os.listdir('./data/json/')\n",
    "\n",
    "\n",
    "for file_name in file_list:\n",
    "    with open(f\"./data/json/{file_name}\", \"r\", encoding=\"utf8\") as f:\n",
    "        contents = f.read() # string 타입\n",
    "        json_data = json.loads(contents)\n",
    "        black_canvas = np.zeros(( json_data['imageHeight']  ,json_data['imageWidth'], 3), dtype=\"uint8\")\n",
    "    try:\n",
    "        i=0\n",
    "        while True:\n",
    "            polygon = np.array(json_data['shapes'][i]['points'],dtype=np.int32)\n",
    "            \n",
    "            if json_data['shapes'][i]['label'] == 'disease':\n",
    "                color = 255,255,255\n",
    "            elif  json_data['shapes'][i]['label'] =='others':\n",
    "                color = 0,0,255\n",
    "\n",
    "            cv2.fillPoly(black_canvas,[polygon],color = color )\n",
    "            i=i+1\n",
    "\n",
    "    except:\n",
    "        print(f\"{file_name[:-5]} 종료\")\n",
    "        #cv2.imshow('image',black_canvas)\n",
    "        cv2.imwrite(f'./testtarget/{file_name[:-5]}.jpg',black_canvas)\n",
    "        cv2.waitKey(0)\n",
    "        cv2.destroyAllWindows()\n",
    "    "
   ]
  },
  {
   "cell_type": "code",
   "execution_count": null,
   "id": "04dd4f31",
   "metadata": {},
   "outputs": [],
   "source": []
  },
  {
   "cell_type": "code",
   "execution_count": 8,
   "id": "00f26c5d",
   "metadata": {},
   "outputs": [],
   "source": [
    "# #json 경로 설정.\n",
    "# with open(\"./data/json/1.json\", \"r\", encoding=\"utf8\") as f:\n",
    "#     contents = f.read() # string 타입\n",
    "#     json_data = json.loads(contents)\n",
    "# print(json_data)"
   ]
  },
  {
   "cell_type": "code",
   "execution_count": 9,
   "id": "7d54818e",
   "metadata": {},
   "outputs": [],
   "source": [
    "# import numpy as np\n",
    "# import argparse\n",
    "# import cv2\n",
    "# import matplotlib.pyplot as plt\n",
    "\n",
    "# #검은색\n",
    "# #black_canvas = np.zeros(( json_data['imageWidth'] ,json_data['imageHeight'], 3), dtype=\"uint8\")\n",
    "\n",
    "# #json 좌표값\n",
    "# polygon = np.array(json_data['shapes'][0]['points'],dtype=np.int32)\n",
    "\n",
    "# print(json_data['shapes'])"
   ]
  },
  {
   "cell_type": "code",
   "execution_count": 10,
   "id": "aaf5bff2",
   "metadata": {},
   "outputs": [],
   "source": [
    "\n",
    "# cv2.fillPoly(black_canvas,[polygon],color =(255,255,255))\n",
    "# #black_canvas = cv2.resize(black_canvas, (300, 300))\n",
    "# cv2.imshow('image',black_canvas)\n",
    "\n",
    "# #저장 경로 설정\n",
    "# cv2.imwrite('./testtarget/target01.jpg',black_canvas)\n",
    "# cv2.waitKey(0)\n",
    "# cv2.destroyAllWindows()"
   ]
  },
  {
   "cell_type": "code",
   "execution_count": null,
   "id": "d109627e",
   "metadata": {},
   "outputs": [],
   "source": []
  }
 ],
 "metadata": {
  "kernelspec": {
   "display_name": "Python 3 (ipykernel)",
   "language": "python",
   "name": "python3"
  },
  "language_info": {
   "codemirror_mode": {
    "name": "ipython",
    "version": 3
   },
   "file_extension": ".py",
   "mimetype": "text/x-python",
   "name": "python",
   "nbconvert_exporter": "python",
   "pygments_lexer": "ipython3",
   "version": "3.7.13"
  }
 },
 "nbformat": 4,
 "nbformat_minor": 5
}
