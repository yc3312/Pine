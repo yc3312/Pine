{
 "cells": [
  {
   "cell_type": "code",
   "execution_count": 3,
   "id": "74f32ccc",
   "metadata": {},
   "outputs": [
    {
     "name": "stderr",
     "output_type": "stream",
     "text": [
      "C:\\Users\\82106\\miniconda3\\envs\\tf24\\lib\\site-packages\\scipy\\__init__.py:146: UserWarning: A NumPy version >=1.16.5 and <1.23.0 is required for this version of SciPy (detected version 1.23.1\n",
      "  warnings.warn(f\"A NumPy version >={np_minversion} and <{np_maxversion}\"\n"
     ]
    }
   ],
   "source": [
    "import os\n",
    "import math\n",
    "from PIL import Image ,  ImageOps\n",
    "from imutils import paths\n",
    "import numpy as np\n",
    "import argparse\n",
    "import imutils\n",
    "import cv2\n",
    "import glob\n",
    "import matplotlib.pyplot as plt\n",
    "import tensorflow as tf\n",
    "import matplotlib.cm as cm"
   ]
  },
  {
   "cell_type": "markdown",
   "id": "43712adb",
   "metadata": {},
   "source": [
    "- 이미지 이어붙이기"
   ]
  },
  {
   "cell_type": "code",
   "execution_count": 4,
   "id": "83744d7a",
   "metadata": {},
   "outputs": [],
   "source": [
    "def resize(filename):\n",
    "    img = cv2.imread(filename)\n",
    "    width, height = img.shape[:2]\n",
    "    if height * width * 3 <= 2 ** 25:\n",
    "        return img\n",
    "    i = 2\n",
    "    t_height, t_width = height, width\n",
    "    while t_height * t_width * 3 > 2 ** 25:\n",
    "        t_height = int(t_height / math.sqrt(i))\n",
    "        t_width = int(t_width / math.sqrt(i))\n",
    "        i += 1\n",
    "    height, width = t_height, t_width\n",
    "    image = Image.open(filename)\n",
    "    resize_image = image.resize((height, width))\n",
    "    filename = filename[:-1 * (len(filename.split(\".\")[-1]) + 1)] + \"_resized.\" + filename.split(\".\")[-1]\n",
    "    resize_image.save(filename)\n",
    "    img = cv2.imread(filename)\n",
    "    os.system(\"del \" + filename.replace(\"/\", \"\\\\\"))\n",
    "    return img"
   ]
  },
  {
   "cell_type": "code",
   "execution_count": 10,
   "id": "aadec8b5",
   "metadata": {},
   "outputs": [],
   "source": [
    "# import argparse\n",
    "\n",
    "# ap = argparse.ArgumentParser()\n",
    "# ap.add_argument(\"-i\", \"--images\", type=str, required=True,\n",
    "#                 help=\"path to input directory of images to stitch\")\n",
    "# ap.add_argument(\"-o\", \"--output\", type=str, required=True,\n",
    "#                 help=\"path to the output image\")\n",
    "\n",
    "import easydict\n",
    "\n",
    "args = easydict.EasyDict({ \"images\": 'images/', \"ouput\": 'output/'})\n",
    "#args = vars(ap.parse_args())"
   ]
  },
  {
   "cell_type": "code",
   "execution_count": 11,
   "id": "93a30a34",
   "metadata": {},
   "outputs": [
    {
     "name": "stdout",
     "output_type": "stream",
     "text": [
      "[INFO] loading images...\n"
     ]
    }
   ],
   "source": [
    "# 이미지 불러오기\n",
    "print(\"[INFO] loading images...\")\n",
    "imagePaths = sorted(list(paths.list_images(args[\"images\"])))\n",
    "images = []\n",
    "\n",
    "for imagePath in imagePaths:\n",
    "    image = resize(imagePath)\n",
    "    images.append(image)"
   ]
  },
  {
   "cell_type": "code",
   "execution_count": 12,
   "id": "9bc98ca6",
   "metadata": {},
   "outputs": [],
   "source": [
    "# 이어붙이기\n",
    "stitcher = cv2.createStitcher() if imutils.is_cv3() else cv2.Stitcher_create()\n",
    "(status, stitched) = stitcher.stitch(images)"
   ]
  },
  {
   "cell_type": "code",
   "execution_count": 13,
   "id": "2d7dc387",
   "metadata": {},
   "outputs": [],
   "source": [
    "# cv2.imshow(\"Stitched\", stitched)\n",
    "# cv2.waitKey(0)\n",
    "# cv2.destroyAllWindows()"
   ]
  },
  {
   "cell_type": "code",
   "execution_count": 14,
   "id": "e7b6c03f",
   "metadata": {},
   "outputs": [
    {
     "name": "stdout",
     "output_type": "stream",
     "text": [
      "[INFO] image stitching failed (3: STITCHER_ERR_CAMERA_PARAMETERS_ADJUSTMENT_FAIL)\n"
     ]
    }
   ],
   "source": [
    "# 이미지 저장, 출력\n",
    "if status == 0:\n",
    "    # write the output stitched image to disk\n",
    "    cv2.imwrite('output/Stitched_02.png', stitched)\n",
    "\n",
    "    # display the output stitched image to our screen\n",
    "    cv2.imshow(\"Stitched\", stitched)\n",
    "    cv2.waitKey(0)\n",
    "    cv2.destroyAllWindows()\n",
    "else:\n",
    "    if status == cv2.STITCHER_ERR_NEED_MORE_IMGS:\n",
    "        print(\"[INFO] image stitching failed (1: STITCHER_ERR_NEED_MORE_IMGS)\")\n",
    "    elif status == cv2.STITCHER_ERR_HOMOGRAPHY_EST_FAIL:\n",
    "        print(\"[INFO] image stitching failed (2: STITCHER_ERR_HOMOGRAPHY_EST_FAIL)\")\n",
    "    else:\n",
    "        print(\"[INFO] image stitching failed (3: STITCHER_ERR_CAMERA_PARAMETERS_ADJUSTMENT_FAIL)\")"
   ]
  },
  {
   "cell_type": "markdown",
   "id": "280f92c0",
   "metadata": {},
   "source": [
    "- 좌표 출력"
   ]
  },
  {
   "cell_type": "code",
   "execution_count": null,
   "id": "32dc9906",
   "metadata": {},
   "outputs": [],
   "source": [
    "# 이진화(예측) 이미지 불러오기\n",
    "map_img = cv2.imread('output/Stitched_02.png', 0)"
   ]
  },
  {
   "cell_type": "code",
   "execution_count": null,
   "id": "d3af825f",
   "metadata": {},
   "outputs": [],
   "source": [
    "map_img = cv2.resize(map_img, dsize = (256,256))"
   ]
  },
  {
   "cell_type": "code",
   "execution_count": null,
   "id": "89873421",
   "metadata": {},
   "outputs": [],
   "source": [
    "width, height = map_img.shape\n",
    "map = np.zeros((width, height), np.uint8)"
   ]
  },
  {
   "cell_type": "code",
   "execution_count": null,
   "id": "90ad5d4c",
   "metadata": {},
   "outputs": [],
   "source": [
    "for x in range(height):\n",
    "    for y in range(width):\n",
    "        if map_img[x][y] == 255:\n",
    "            map[x][y] = 1\n",
    "        else:\n",
    "            map[x][y] = 0"
   ]
  },
  {
   "cell_type": "code",
   "execution_count": null,
   "id": "57888b18",
   "metadata": {},
   "outputs": [],
   "source": [
    "for x in range(height):\n",
    "    for y in range(width):\n",
    "        if map[x][y] == 1:\n",
    "            print(x, y)\n",
    "            \n",
    "np.count_nonzero(map)"
   ]
  }
 ],
 "metadata": {
  "kernelspec": {
   "display_name": "Python 3 (ipykernel)",
   "language": "python",
   "name": "python3"
  },
  "language_info": {
   "codemirror_mode": {
    "name": "ipython",
    "version": 3
   },
   "file_extension": ".py",
   "mimetype": "text/x-python",
   "name": "python",
   "nbconvert_exporter": "python",
   "pygments_lexer": "ipython3",
   "version": "3.8.13"
  }
 },
 "nbformat": 4,
 "nbformat_minor": 5
}
