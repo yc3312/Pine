{
 "cells": [
  {
   "cell_type": "code",
   "execution_count": 18,
   "id": "e6450577",
   "metadata": {},
   "outputs": [],
   "source": [
    "import cv2\n",
    "import numpy as np\n",
    "import matplotlib.pyplot as plt"
   ]
  },
  {
   "cell_type": "code",
   "execution_count": 19,
   "id": "23ea7778",
   "metadata": {},
   "outputs": [],
   "source": [
    "def gray(path , WIDTH , HEIGHT ):\n",
    "    masked = cv2.imread(path)\n",
    "    masked = cv2.resize(masked , (WIDTH, HEIGHT))\n",
    "    masked_gray = cv2.cvtColor(masked, cv2.COLOR_BGR2GRAY)\n",
    "    ret, masked_thr = cv2.threshold(masked_gray, 128, 255, cv2.THRESH_BINARY)\n",
    "    return masked_thr"
   ]
  },
  {
   "cell_type": "code",
   "execution_count": 20,
   "id": "8ff01c47",
   "metadata": {},
   "outputs": [],
   "source": [
    "def get_IoU(grd_path, masked_path, WIDTH, HEIGHT):\n",
    "    grd_truth_thr = gray(grd_path,WIDTH,HEIGHT)\n",
    "    masked_thr = gray(masked_path,WIDTH,HEIGHT)\n",
    "    intersection = cv2.countNonZero(cv2.bitwise_and(grd_truth_thr, masked_thr))\n",
    "    union = cv2.countNonZero(cv2.bitwise_or(grd_truth_thr,masked_thr))\n",
    "    \n",
    "    return intersection / union"
   ]
  },
  {
   "cell_type": "code",
   "execution_count": 34,
   "id": "52ca97b5",
   "metadata": {},
   "outputs": [],
   "source": [
    "#IoU = intersection / union\n",
    "#print(intersection, union, IoU)"
   ]
  },
  {
   "cell_type": "code",
   "execution_count": 38,
   "id": "37c51011",
   "metadata": {
    "scrolled": true
   },
   "outputs": [
    {
     "data": {
      "image/png": "[encoded data removed]",
      "text/plain": [
       "<Figure size 432x288 with 1 Axes>"
      ]
     },
     "metadata": {
      "needs_background": "light"
     },
     "output_type": "display_data"
    }
   ],
   "source": [
    "X=[]\n",
    "for i in range(1,300):    \n",
    "    IoU = get_IoU ('data/target/target002.jpg', f'300img/{i}.jpg', 512, 512)\n",
    "    plt.plot(i,IoU,'or')\n",
    "    X.append(IoU)\n",
    "plt.xlabel('X (epochs)')\n",
    "plt.ylabel('Y (IoU)')\n",
    "plt.show()"
   ]
  },
  {
   "cell_type": "code",
   "execution_count": 45,
   "id": "2ea5bc66",
   "metadata": {},
   "outputs": [
    {
     "name": "stdout",
     "output_type": "stream",
     "text": [
      "216 , 0.9567676660381867\n"
     ]
    }
   ],
   "source": [
    "print(X.index(max(X)), ',',max(X))"
   ]
  },
  {
   "cell_type": "code",
   "execution_count": null,
   "id": "26d3cdec",
   "metadata": {},
   "outputs": [],
   "source": []
  }
 ],
 "metadata": {
  "kernelspec": {
   "display_name": "Python 3 (ipykernel)",
   "language": "python",
   "name": "python3"
  },
  "language_info": {
   "codemirror_mode": {
    "name": "ipython",
    "version": 3
   },
   "file_extension": ".py",
   "mimetype": "text/x-python",
   "name": "python",
   "nbconvert_exporter": "python",
   "pygments_lexer": "ipython3",
   "version": "3.7.13"
  }
 },
 "nbformat": 4,
 "nbformat_minor": 5
}
