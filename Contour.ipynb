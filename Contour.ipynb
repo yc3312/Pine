{
 "cells": [
  {
   "cell_type": "code",
   "execution_count": 2,
   "id": "cc8cea7d",
   "metadata": {},
   "outputs": [],
   "source": [
    "import cv2\n",
    "import numpy as np\n",
    "import matplotlib.pyplot as plt"
   ]
  },
  {
   "cell_type": "code",
   "execution_count": 3,
   "id": "be28535b",
   "metadata": {},
   "outputs": [],
   "source": [
    "img = cv2.pyrDown(cv2.imread('data/p (12).jpg', cv2.IMREAD_UNCHANGED))\n",
    "imgray = cv2.cvtColor(img, cv2.COLOR_BGR2GRAY)"
   ]
  },
  {
   "cell_type": "code",
   "execution_count": 4,
   "id": "3794c9ea",
   "metadata": {},
   "outputs": [],
   "source": [
    "# threshold image\n",
    "ret, threshed_img = cv2.threshold(imgray, 127, 255, cv2.THRESH_BINARY)"
   ]
  },
  {
   "cell_type": "code",
   "execution_count": 5,
   "id": "c9ff6b54",
   "metadata": {},
   "outputs": [],
   "source": [
    "# find contours and get the external one\n",
    "contours, hier = cv2.findContours(threshed_img, cv2.RETR_TREE, cv2.CHAIN_APPROX_SIMPLE)"
   ]
  },
  {
   "cell_type": "code",
   "execution_count": 6,
   "id": "ba12384a",
   "metadata": {},
   "outputs": [
    {
     "name": "stdout",
     "output_type": "stream",
     "text": [
      "145\n"
     ]
    }
   ],
   "source": [
    "# with each contour, draw boundingRect in green\n",
    "# a minAreaRect in red and\n",
    "# a minEnclosingCircle in blue\n",
    "arr = np.empty((0,2), int)\n",
    "for c in contours:\n",
    "    # get the min area rect\n",
    "    rect = cv2.minAreaRect(c)\n",
    "    box = cv2.boxPoints(rect)\n",
    "    # convert all coordinates floating point values to int\n",
    "    box = np.int0(box)\n",
    "    arr = np.append(arr, box, axis = 0)\n",
    "    \n",
    "    # draw a red 'nghien' rectangle\n",
    "    cv2.drawContours(img, [box], 0, (0, 0, 255))\n",
    "    #arr = np.append(arr, np.array(box), axis = 0)\n",
    "    #arr = np.append(arr, np.array(box))\n",
    "\n",
    "print(len(contours))"
   ]
  },
  {
   "cell_type": "code",
   "execution_count": 7,
   "id": "6225605a",
   "metadata": {},
   "outputs": [],
   "source": [
    "arr_split = np.split(arr, len(contours))\n",
    "arr_mean = []\n",
    "\n",
    "for x in arr_split:\n",
    "    arr_mean = np.append(arr_mean, x.mean(axis=0))\n",
    "\n",
    "arr_mean = np.split(arr_mean, len(contours))\n",
    "arr_mean = np.int0(arr_mean)"
   ]
  },
  {
   "cell_type": "code",
   "execution_count": 8,
   "id": "7c8d6d94",
   "metadata": {},
   "outputs": [],
   "source": [
    "color = (255,0,0)\n",
    "\n",
    "for mean in arr_mean:\n",
    "    x = mean[0]\n",
    "    y = mean[1]\n",
    "    cv2.line(img, (x,y), (x,y), color, 5)\n",
    "    \n",
    "cv2.imwrite(\"coordinate/12.png\", img)    \n",
    "\n",
    "cv2.imshow(\"contours\", img)\n",
    "cv2.waitKey(0)\n",
    "cv2.destroyAllWindows()"
   ]
  },
  {
   "cell_type": "code",
   "execution_count": 9,
   "id": "224dccee",
   "metadata": {
    "scrolled": true
   },
   "outputs": [
    {
     "data": {
      "text/plain": [
       "array([[145, 403],\n",
       "       [ 47, 390],\n",
       "       [ 14, 383],\n",
       "       [219, 377],\n",
       "       [142, 365],\n",
       "       [137, 367],\n",
       "       [161, 359],\n",
       "       [193, 357],\n",
       "       [146, 350],\n",
       "       [ 21, 344],\n",
       "       [222, 336],\n",
       "       [173, 330],\n",
       "       [197, 324],\n",
       "       [263, 307],\n",
       "       [194, 301],\n",
       "       [ 40, 299],\n",
       "       [178, 297],\n",
       "       [220, 288],\n",
       "       [  8, 283],\n",
       "       [ 29, 277],\n",
       "       [291, 278],\n",
       "       [185, 278],\n",
       "       [277, 276],\n",
       "       [172, 273],\n",
       "       [156, 266],\n",
       "       [ 82, 266],\n",
       "       [  0, 264],\n",
       "       [ 43, 275],\n",
       "       [ 16, 264],\n",
       "       [  9, 260],\n",
       "       [ 98, 256],\n",
       "       [190, 256],\n",
       "       [133, 258],\n",
       "       [ 45, 247],\n",
       "       [  6, 246],\n",
       "       [157, 246],\n",
       "       [ 22, 234],\n",
       "       [ 68, 242],\n",
       "       [ 40, 229],\n",
       "       [300, 231],\n",
       "       [ 48, 223],\n",
       "       [ 95, 221],\n",
       "       [153, 220],\n",
       "       [ 62, 214],\n",
       "       [161, 210],\n",
       "       [ 17, 213],\n",
       "       [ 11, 218],\n",
       "       [299, 202],\n",
       "       [ 41, 197],\n",
       "       [271, 196],\n",
       "       [129, 193],\n",
       "       [255, 184],\n",
       "       [ 99, 182],\n",
       "       [ 66, 187],\n",
       "       [240, 202],\n",
       "       [276, 179],\n",
       "       [267, 178],\n",
       "       [301, 181],\n",
       "       [116, 178],\n",
       "       [281, 174],\n",
       "       [137, 172],\n",
       "       [174, 168],\n",
       "       [ 22, 171],\n",
       "       [195, 165],\n",
       "       [153, 168],\n",
       "       [ 10, 165],\n",
       "       [281, 164],\n",
       "       [231, 163],\n",
       "       [161, 157],\n",
       "       [ 76, 157],\n",
       "       [201, 150],\n",
       "       [180, 148],\n",
       "       [274, 142],\n",
       "       [127, 130],\n",
       "       [ 92, 134],\n",
       "       [136, 138],\n",
       "       [102, 134],\n",
       "       [116, 126],\n",
       "       [ 31, 123],\n",
       "       [198, 125],\n",
       "       [ 37, 123],\n",
       "       [ 49, 122],\n",
       "       [ 16, 116],\n",
       "       [138, 116],\n",
       "       [177, 118],\n",
       "       [113, 107],\n",
       "       [ 96, 112],\n",
       "       [ 29, 103],\n",
       "       [253, 104],\n",
       "       [ 10, 100],\n",
       "       [  3, 101],\n",
       "       [266,  99],\n",
       "       [181, 100],\n",
       "       [247,  97],\n",
       "       [198,  99],\n",
       "       [126,  99],\n",
       "       [ 15,  94],\n",
       "       [104,  94],\n",
       "       [270,  89],\n",
       "       [259,  87],\n",
       "       [ 65,  69],\n",
       "       [283,  62],\n",
       "       [ 28,  63],\n",
       "       [106,  59],\n",
       "       [  9,  55],\n",
       "       [232,  60],\n",
       "       [179,  54],\n",
       "       [  2,  50],\n",
       "       [203,  56],\n",
       "       [ 47,  45],\n",
       "       [190,  41],\n",
       "       [  5,  39],\n",
       "       [ 24,  38],\n",
       "       [147,  37],\n",
       "       [ 38,  36],\n",
       "       [214,  41],\n",
       "       [175,  41],\n",
       "       [111,  36],\n",
       "       [130,  34],\n",
       "       [242,  32],\n",
       "       [143,  33],\n",
       "       [161,  30],\n",
       "       [290,  26],\n",
       "       [ 82,  23],\n",
       "       [ 12,  28],\n",
       "       [279,  24],\n",
       "       [168,  22],\n",
       "       [249,  22],\n",
       "       [  9,  18],\n",
       "       [  1,  19],\n",
       "       [ 16,  16],\n",
       "       [ 81,  13],\n",
       "       [  7,  10],\n",
       "       [ 24,   9],\n",
       "       [ 66,  11],\n",
       "       [157,   7],\n",
       "       [119,   4],\n",
       "       [ 60,   2],\n",
       "       [ 22,   3],\n",
       "       [287,   3],\n",
       "       [280,   2],\n",
       "       [248,   2],\n",
       "       [ 44,   1],\n",
       "       [ 37,   7],\n",
       "       [ 16,   1]], dtype=int64)"
      ]
     },
     "execution_count": 9,
     "metadata": {},
     "output_type": "execute_result"
    }
   ],
   "source": [
    "#좌표\n",
    "arr_mean"
   ]
  },
  {
   "cell_type": "code",
   "execution_count": 11,
   "id": "77323be7",
   "metadata": {},
   "outputs": [
    {
     "data": {
      "image/png": "[encoded data removed]",
      "text/plain": [
       "<Figure size 432x288 with 1 Axes>"
      ]
     },
     "metadata": {
      "needs_background": "light"
     },
     "output_type": "display_data"
    }
   ],
   "source": [
    "#면적\n",
    "SIZE = 256\n",
    "\n",
    "cv2.imshow(\"threshold\", threshed_img)\n",
    "cv2.waitKey(0)\n",
    "cv2.destroyAllWindows()\n",
    "\n",
    "hist = cv2.calcHist(images = [threshed_img], \n",
    "                    channels = [0], \n",
    "                    mask = None,\n",
    "                    histSize = [SIZE],\n",
    "                    ranges = [0, SIZE])\n",
    "\n",
    "plt.hist(threshed_img.ravel(), SIZE, [0, SIZE])\n",
    "plt.show()"
   ]
  },
  {
   "cell_type": "code",
   "execution_count": 12,
   "id": "853fa09d",
   "metadata": {},
   "outputs": [
    {
     "name": "stdout",
     "output_type": "stream",
     "text": [
      "피해지역면적 :  [1073.86560171] \n",
      "정상지역면적 :  [8926.13439829]\n"
     ]
    }
   ],
   "source": [
    "    height, width = threshed_img.shape[0], threshed_img.shape[1] \n",
    "    rectangle_area = height * width\n",
    "    rate_w = hist[-1] / rectangle_area\n",
    "    rate_b = hist[0] / rectangle_area\n",
    "\n",
    "    ds_area = 100*100 # 전체 면적\n",
    "    ds_S = ds_area*rate_w # 질병 면적\n",
    "    st_S = ds_area*rate_b # 정상 면적\n",
    "    \n",
    "    print(\"피해지역면적 : \", ds_S, \"\\n정상지역면적 : \", st_S)"
   ]
  },
  {
   "cell_type": "code",
   "execution_count": null,
   "id": "64c6113a",
   "metadata": {},
   "outputs": [],
   "source": []
  }
 ],
 "metadata": {
  "kernelspec": {
   "display_name": "Python 3 (ipykernel)",
   "language": "python",
   "name": "python3"
  },
  "language_info": {
   "codemirror_mode": {
    "name": "ipython",
    "version": 3
   },
   "file_extension": ".py",
   "mimetype": "text/x-python",
   "name": "python",
   "nbconvert_exporter": "python",
   "pygments_lexer": "ipython3",
   "version": "3.8.13"
  }
 },
 "nbformat": 4,
 "nbformat_minor": 5
}
